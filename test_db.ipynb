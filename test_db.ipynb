{
 "cells": [
  {
   "cell_type": "code",
   "execution_count": 1,
   "metadata": {},
   "outputs": [],
   "source": [
    "import os\n",
    "import sqlite3\n",
    "import pandas as pd\n",
    "from utils import db\n",
    "# Base directory where CSV files are located\n",
    "path_to_csv_files = 'testDBs/test1/db/'\n",
    "db_output_dir = 'example.db'"
   ]
  },
  {
   "cell_type": "code",
   "execution_count": 7,
   "metadata": {},
   "outputs": [
    {
     "name": "stdout",
     "output_type": "stream",
     "text": [
      "CREATE TABLE \"invoice\" (\"id\" PRIMARY KEY, \"order_id\" TEXT, \"creation_date\" TEXT, FOREIGN KEY (\"order_id\") REFERENCES \"order\"(\"id\"))\n",
      "CREATE TABLE \"order\" (\"id\" PRIMARY KEY, \"creation_date\" TEXT)\n",
      "CREATE TABLE \"payment\" (\"id\" PRIMARY KEY, \"invoice_id\" TEXT, \"creation_date\" TEXT, FOREIGN KEY (\"invoice_id\") REFERENCES \"invoice\"(\"id\"))\n",
      "CREATE TABLE \"shipment\" (\"id\" PRIMARY KEY, \"order_id\" TEXT, \"creation_date\" TEXT, FOREIGN KEY (\"order_id\") REFERENCES \"order\"(\"id\"))\n",
      "Data inserted into table order\n",
      "Data inserted into table invoice\n",
      "Data inserted into table payment\n",
      "Data inserted into table shipment\n",
      "Database created: example.db\n"
     ]
    },
    {
     "data": {
      "text/plain": [
       "'TABLE invoice:\\nCREATE TABLE \"invoice\" (\"id\" PRIMARY KEY, \"order_id\" TEXT, \"creation_date\" TEXT, FOREIGN KEY (\"order_id\") REFERENCES \"order\"(\"id\"));\\n\\nTABLE order:\\nCREATE TABLE \"order\" (\"id\" PRIMARY KEY, \"creation_date\" TEXT);\\n\\nTABLE payment:\\nCREATE TABLE \"payment\" (\"id\" PRIMARY KEY, \"invoice_id\" TEXT, \"creation_date\" TEXT, FOREIGN KEY (\"invoice_id\") REFERENCES \"invoice\"(\"id\"));\\n\\nTABLE shipment:\\nCREATE TABLE \"shipment\" (\"id\" PRIMARY KEY, \"order_id\" TEXT, \"creation_date\" TEXT, FOREIGN KEY (\"order_id\") REFERENCES \"order\"(\"id\"));\\n'"
      ]
     },
     "execution_count": 7,
     "metadata": {},
     "output_type": "execute_result"
    }
   ],
   "source": [
    "# Main execution flow\n",
    "files_structure = db.discover_csv_files_and_structure(path_to_csv_files)\n",
    "relationships = db.map_relationships(files_structure)\n",
    "sorted_table_names = db.sort_tables_by_dependency(relationships)\n",
    "db.create_database_and_tables(files_structure, relationships, sorted_table_names, db_output_dir = db_output_dir)\n",
    "db.get_database_schema(path_to_db=db_output_dir)"
   ]
  },
  {
   "cell_type": "code",
   "execution_count": 8,
   "metadata": {},
   "outputs": [
    {
     "data": {
      "text/plain": [
       "['invoice', 'order', 'payment', 'shipment']"
      ]
     },
     "execution_count": 8,
     "metadata": {},
     "output_type": "execute_result"
    }
   ],
   "source": [
    "db.get_list_tables(path_to_db=db_output_dir)"
   ]
  },
  {
   "cell_type": "code",
   "execution_count": 9,
   "metadata": {},
   "outputs": [
    {
     "name": "stdout",
     "output_type": "stream",
     "text": [
      "('i1', 'o1', '2017-08-15 09:13:27')\n",
      "('i2', 'o2', '2017-08-17 17:38:36')\n",
      "('i3', 'o3', '2017-08-19 23:03:45')\n",
      "('i4', 'o4', '2017-08-21 14:25:04')\n",
      "----\n",
      "('o1', '2017-08-11 10:33:37')\n",
      "('o2', '2017-08-13 16:18:15')\n",
      "('o3', '2017-08-15 22:02:53')\n",
      "('o4', '2017-08-17 02:18:12')\n",
      "----\n",
      "('p1', 'i1', '2017-08-21 16:26:13')\n",
      "('p2', 'i3', '2017-08-23 18:42:09')\n",
      "('p3', 'i4', '2017-08-25 20:52:10')\n",
      "----\n",
      "('s1', 'o1', '2017-08-24 11:36:35')\n",
      "('s2', 'o4', '2017-08-30 09:45:31')\n",
      "----\n"
     ]
    }
   ],
   "source": [
    "for i in db.get_list_tables(path_to_db=db_output_dir):\n",
    "    db.inspect_table(db_output_dir, i, limit=10)\n",
    "    print('----')"
   ]
  },
  {
   "cell_type": "code",
   "execution_count": null,
   "metadata": {},
   "outputs": [],
   "source": []
  },
  {
   "cell_type": "code",
   "execution_count": null,
   "metadata": {},
   "outputs": [],
   "source": []
  },
  {
   "cell_type": "code",
   "execution_count": null,
   "metadata": {},
   "outputs": [],
   "source": []
  },
  {
   "cell_type": "code",
   "execution_count": null,
   "metadata": {},
   "outputs": [],
   "source": []
  }
 ],
 "metadata": {
  "kernelspec": {
   "display_name": "event-log-extraction-assistant",
   "language": "python",
   "name": "python3"
  },
  "language_info": {
   "codemirror_mode": {
    "name": "ipython",
    "version": 3
   },
   "file_extension": ".py",
   "mimetype": "text/x-python",
   "name": "python",
   "nbconvert_exporter": "python",
   "pygments_lexer": "ipython3",
   "version": "3.10.14"
  }
 },
 "nbformat": 4,
 "nbformat_minor": 2
}
