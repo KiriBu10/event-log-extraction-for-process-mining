{
 "cells": [
  {
   "cell_type": "code",
   "execution_count": 2,
   "metadata": {},
   "outputs": [],
   "source": [
    "import os\n",
    "from keys import OPENAI_KEY\n",
    "from langchain_openai import ChatOpenAI\n",
    "from utils.db import get_database_schema_execute_all, run_query_and_return_df\n",
    "\n",
    "os.environ['OPENAI_API_KEY'] = OPENAI_KEY  "
   ]
  },
  {
   "cell_type": "code",
   "execution_count": 3,
   "metadata": {},
   "outputs": [],
   "source": [
    "# Base directory where CSV files are located\n",
    "path_to_csv_files = 'testDBs/test1/db/'\n",
    "db_output_dir = 'example.db'\n",
    "llm_model = ChatOpenAI(model=\"gpt-3.5-turbo\", temperature=0) "
   ]
  },
  {
   "cell_type": "code",
   "execution_count": 4,
   "metadata": {},
   "outputs": [
    {
     "name": "stdout",
     "output_type": "stream",
     "text": [
      "CREATE TABLE \"invoice\" (\"id\" PRIMARY KEY, \"order_id\" TEXT, \"creation_date\" TEXT, FOREIGN KEY (\"order_id\") REFERENCES \"order\"(\"id\"))\n",
      "CREATE TABLE \"order\" (\"id\" PRIMARY KEY, \"creation_date\" TEXT)\n",
      "CREATE TABLE \"payment\" (\"id\" PRIMARY KEY, \"invoice_id\" TEXT, \"creation_date\" TEXT, FOREIGN KEY (\"invoice_id\") REFERENCES \"invoice\"(\"id\"))\n",
      "CREATE TABLE \"shipment\" (\"id\" PRIMARY KEY, \"order_id\" TEXT, \"creation_date\" TEXT, FOREIGN KEY (\"order_id\") REFERENCES \"order\"(\"id\"))\n",
      "Data inserted into table order\n",
      "Data inserted into table invoice\n",
      "Data inserted into table payment\n",
      "Data inserted into table shipment\n",
      "Database created: example.db\n"
     ]
    }
   ],
   "source": [
    "db_schema = get_database_schema_execute_all(path_to_csv_files = path_to_csv_files, db_output_dir= db_output_dir)"
   ]
  },
  {
   "cell_type": "code",
   "execution_count": 5,
   "metadata": {},
   "outputs": [],
   "source": [
    "def get_sql_query(state):\n",
    "    messages = state['messages']\n",
    "    user_input = messages[-1]\n",
    "    response = llm_model.invoke(user_input)\n",
    "    state['messages'].append(response.content) # appending AIMessage response to the AgentState\n",
    "    return state\n",
    "\n",
    "def run_sql_query(state):\n",
    "    messages = state['messages']\n",
    "    agent_response = messages[-1]\n",
    "    #agent_response = 'SELECT * FROM \"order\" where \"id\"=\"o1\"'\n",
    "    try:\n",
    "        df = run_query_and_return_df(path_to_db = db_output_dir, query = agent_response)\n",
    "        state['df'] = df\n",
    "    except Exception as e:\n",
    "        state['df'] = 'ERROR'\n",
    "    return state "
   ]
  },
  {
   "cell_type": "code",
   "execution_count": 6,
   "metadata": {},
   "outputs": [],
   "source": [
    "from langgraph.graph import Graph\n",
    "\n",
    "workflow = Graph()\n",
    "# nodes\n",
    "workflow.add_node(\"agent\", get_sql_query)\n",
    "workflow.add_node(\"tool\", run_sql_query)\n",
    "# edges\n",
    "workflow.add_edge('agent', 'tool')\n",
    "# entry, exit\n",
    "workflow.set_entry_point(\"agent\")\n",
    "workflow.set_finish_point(\"tool\")\n",
    "\n",
    "app = workflow.compile()"
   ]
  },
  {
   "cell_type": "code",
   "execution_count": 9,
   "metadata": {},
   "outputs": [
    {
     "name": "stderr",
     "output_type": "stream",
     "text": [
      "Skipping write for channel tags which has no readers\n",
      "Skipping write for channel tags which has no readers\n"
     ]
    },
    {
     "data": {
      "text/plain": [
       "{'messages': ['How are you?',\n",
       "  \"I'm just a computer program, so I don't have feelings, but I'm here to help you with anything you need. How can I assist you today?\"],\n",
       " 'df': 'ERROR'}"
      ]
     },
     "execution_count": 9,
     "metadata": {},
     "output_type": "execute_result"
    }
   ],
   "source": [
    "prompt=\"\"\"Consider the following db schema:\n",
    "            {db_schema}\n",
    "            Write a sql statements that returns all in the order table. Use quotes for identifiers. Provide only the query.\"\"\"\n",
    "AgentState = {\"messages\": [prompt]}\n",
    "app.invoke(AgentState)"
   ]
  },
  {
   "cell_type": "code",
   "execution_count": null,
   "metadata": {},
   "outputs": [],
   "source": []
  }
 ],
 "metadata": {
  "kernelspec": {
   "display_name": "event-log-extraction-assistant",
   "language": "python",
   "name": "python3"
  },
  "language_info": {
   "codemirror_mode": {
    "name": "ipython",
    "version": 3
   },
   "file_extension": ".py",
   "mimetype": "text/x-python",
   "name": "python",
   "nbconvert_exporter": "python",
   "pygments_lexer": "ipython3",
   "version": "3.10.14"
  }
 },
 "nbformat": 4,
 "nbformat_minor": 2
}
